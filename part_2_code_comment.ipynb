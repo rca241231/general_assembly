{
 "cells": [
  {
   "cell_type": "code",
   "execution_count": null,
   "metadata": {
    "scrolled": true
   },
   "outputs": [],
   "source": [
    "#!/usr/bin/env python\n",
    "\n",
    "import pandas as pd\n",
    "import numpy as np\n",
    "from sklearn import LinearRegression\n",
    "from sklearn.cross_validation import cross_val_score\n",
    "\n",
    "# Load data\n",
    "d = pd.read_csv('../data/train.csv')\n",
    "\n",
    "\n",
    "# Setup data for prediction\n",
    "x1 = data.SalaryNormalized\n",
    "x2 = pd.get_dummies(data.ContractType)\n",
    "\n",
    "# Setup model\n",
    "model = LinearRegression()\n",
    "\n",
    "# Evaluate model\n",
    "from sklearn.cross_validation import cross_val_score\n",
    "from sklearn.cross_validation import train_test_split\n",
    "scores = cross_val_score(model, x2, x1, cv=1, scoring='mean_absolute_error')\n",
    "print(scores.mean())\n",
    "\n",
    "\"\"\"\n",
    "Comments:\n",
    "1. In this case, model doesn't need to be initialized, it can be passed in directly into cross_val_score()\n",
    "2. Library import should be declared at the very top\n",
    "3. Since importing from the same library, this can be used: from sklearn.cross_validation import train_test_split, cross_val_score, cross_val_score\n",
    "4. It would also be interesting to look at the scores standard deviation to see if there is significant fluctuation in performance\n",
    "5. The spacing between commands load and setup should only be one line instead of two\n",
    "6. cv should ideally be greater than 1. Otherwise, using the entire block as test defeats the purpose.\n",
    "7. Since it's contract type, should we use logistic regression instead?\n",
    "\"\"\""
   ]
  },
  {
   "cell_type": "code",
   "execution_count": null,
   "metadata": {},
   "outputs": [],
   "source": [
    "#!/usr/bin/env python\n",
    "\n",
    "import pandas as pd\n",
    "import numpy as np\n",
    "from sklearn.linear_model import LinearRegression\n",
    "from sklearn.cross_validation import cross_val_score\n",
    "\n",
    "# Load data\n",
    "data = pd.read_csv('../data/train.csv')\n",
    "\n",
    "\n",
    "# Setup data for prediction\n",
    "y = data.SalaryNormalized\n",
    "X = pd.get_dummies(data.ContractType)\n",
    "\n",
    "# Setup model\n",
    "model = LinearRegression()\n",
    "\n",
    "# Evaluate model\n",
    "scores = cross_val_score(model, X, y, cv=5, scoring='mean_absolute_error')\n",
    "print(scores.mean())\n",
    "\n",
    "\"\"\"\n",
    "Comments:\n",
    "1. We should do a count of how much data there are to see if cross validation and modeling is reasonable\n",
    "2. Can pass in model directly as LinearRegression() to save lines of code\n",
    "3. It would also be interesting to look at the scores standard deviation to see if there is significant fluctuation in performance\n",
    "4. The spacing between commands load and setup should only be one line instead of two\n",
    "5. Since it's contract type, should we use logistic regression instead?\n",
    "\"\"\""
   ]
  }
 ],
 "metadata": {
  "kernelspec": {
   "display_name": "Python 3",
   "language": "python",
   "name": "python3"
  },
  "language_info": {
   "codemirror_mode": {
    "name": "ipython",
    "version": 3
   },
   "file_extension": ".py",
   "mimetype": "text/x-python",
   "name": "python",
   "nbconvert_exporter": "python",
   "pygments_lexer": "ipython3",
   "version": "3.6.4"
  }
 },
 "nbformat": 4,
 "nbformat_minor": 2
}
